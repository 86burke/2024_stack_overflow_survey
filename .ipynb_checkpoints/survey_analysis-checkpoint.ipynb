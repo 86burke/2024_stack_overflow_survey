{
 "cells": [
  {
   "cell_type": "markdown",
   "id": "74d6e600",
   "metadata": {},
   "source": [
    "2024 Stack Overflow Developer Survey - US Salary vs Education Analysis "
   ]
  },
  {
   "cell_type": "code",
   "execution_count": 1,
   "id": "856d9e55",
   "metadata": {},
   "outputs": [],
   "source": [
    "# import packages for project\n",
    "import pandas as pd\n",
    "import matplotlib.pyplot as plt\n",
    "from matplotlib import style \n",
    "%matplotlib inline\n",
    "import seaborn as sns\n",
    "import numpy as np\n",
    "from statsmodels.formula.api import ols\n",
    "\n",
    "from sklearn.model_selection import train_test_split\n",
    "from sklearn.linear_model import LinearRegression\n"
   ]
  },
  {
   "cell_type": "code",
   "execution_count": 2,
   "id": "add91f4f",
   "metadata": {},
   "outputs": [],
   "source": [
    "#open csv\n",
    "ovsv = pd.read_csv('us_dev_df.csv')"
   ]
  },
  {
   "cell_type": "code",
   "execution_count": 3,
   "id": "1a5bab7d",
   "metadata": {},
   "outputs": [
    {
     "data": {
      "text/html": [
       "<div>\n",
       "<style scoped>\n",
       "    .dataframe tbody tr th:only-of-type {\n",
       "        vertical-align: middle;\n",
       "    }\n",
       "\n",
       "    .dataframe tbody tr th {\n",
       "        vertical-align: top;\n",
       "    }\n",
       "\n",
       "    .dataframe thead th {\n",
       "        text-align: right;\n",
       "    }\n",
       "</style>\n",
       "<table border=\"1\" class=\"dataframe\">\n",
       "  <thead>\n",
       "    <tr style=\"text-align: right;\">\n",
       "      <th></th>\n",
       "      <th>Unnamed: 0</th>\n",
       "      <th>MainBranch</th>\n",
       "      <th>Age</th>\n",
       "      <th>Employment</th>\n",
       "      <th>EdLevel</th>\n",
       "      <th>YearsCode</th>\n",
       "      <th>YearsCodePro</th>\n",
       "      <th>Salary</th>\n",
       "      <th>Languages</th>\n",
       "      <th>Databases</th>\n",
       "      <th>num_of_lang</th>\n",
       "      <th>num_of_db</th>\n",
       "    </tr>\n",
       "  </thead>\n",
       "  <tbody>\n",
       "    <tr>\n",
       "      <th>0</th>\n",
       "      <td>0</td>\n",
       "      <td>I am a developer by profession</td>\n",
       "      <td>45-54 years old</td>\n",
       "      <td>Employed, full-time</td>\n",
       "      <td>Some college/university study without earning ...</td>\n",
       "      <td>38</td>\n",
       "      <td>30</td>\n",
       "      <td>195000.0</td>\n",
       "      <td>Bash/Shell (all shells);C#;HTML/CSS;JavaScript...</td>\n",
       "      <td>Microsoft SQL Server;PostgreSQL;Snowflake</td>\n",
       "      <td>7</td>\n",
       "      <td>3</td>\n",
       "    </tr>\n",
       "    <tr>\n",
       "      <th>1</th>\n",
       "      <td>1</td>\n",
       "      <td>I am a developer by profession</td>\n",
       "      <td>25-34 years old</td>\n",
       "      <td>Employed, full-time</td>\n",
       "      <td>Bachelor’s degree (B.A., B.S., B.Eng., etc.)</td>\n",
       "      <td>20</td>\n",
       "      <td>11</td>\n",
       "      <td>230000.0</td>\n",
       "      <td>Bash/Shell (all shells);Go;Python;Rust</td>\n",
       "      <td>BigQuery;Elasticsearch;MariaDB;MongoDB;Redis;S...</td>\n",
       "      <td>4</td>\n",
       "      <td>6</td>\n",
       "    </tr>\n",
       "    <tr>\n",
       "      <th>2</th>\n",
       "      <td>2</td>\n",
       "      <td>I am a developer by profession</td>\n",
       "      <td>35-44 years old</td>\n",
       "      <td>Employed, full-time</td>\n",
       "      <td>Bachelor’s degree (B.A., B.S., B.Eng., etc.)</td>\n",
       "      <td>25</td>\n",
       "      <td>23</td>\n",
       "      <td>85000.0</td>\n",
       "      <td>Bash/Shell (all shells);C#;C++;Go;HTML/CSS;Jav...</td>\n",
       "      <td>Microsoft SQL Server</td>\n",
       "      <td>8</td>\n",
       "      <td>1</td>\n",
       "    </tr>\n",
       "    <tr>\n",
       "      <th>3</th>\n",
       "      <td>3</td>\n",
       "      <td>I am a developer by profession</td>\n",
       "      <td>35-44 years old</td>\n",
       "      <td>Employed, full-time</td>\n",
       "      <td>Secondary school (e.g. American high school, G...</td>\n",
       "      <td>20</td>\n",
       "      <td>18</td>\n",
       "      <td>160000.0</td>\n",
       "      <td>C#;Go;HTML/CSS;JavaScript;SQL;TypeScript</td>\n",
       "      <td>MariaDB;Microsoft SQL Server;PostgreSQL</td>\n",
       "      <td>6</td>\n",
       "      <td>3</td>\n",
       "    </tr>\n",
       "    <tr>\n",
       "      <th>4</th>\n",
       "      <td>4</td>\n",
       "      <td>I am a developer by profession</td>\n",
       "      <td>45-54 years old</td>\n",
       "      <td>Employed, full-time</td>\n",
       "      <td>Associate degree (A.A., A.S., etc.)</td>\n",
       "      <td>10</td>\n",
       "      <td>10</td>\n",
       "      <td>115000.0</td>\n",
       "      <td>Apex;C#;JavaScript;Python;SQL</td>\n",
       "      <td>Microsoft SQL Server</td>\n",
       "      <td>5</td>\n",
       "      <td>1</td>\n",
       "    </tr>\n",
       "  </tbody>\n",
       "</table>\n",
       "</div>"
      ],
      "text/plain": [
       "   Unnamed: 0                      MainBranch              Age  \\\n",
       "0           0  I am a developer by profession  45-54 years old   \n",
       "1           1  I am a developer by profession  25-34 years old   \n",
       "2           2  I am a developer by profession  35-44 years old   \n",
       "3           3  I am a developer by profession  35-44 years old   \n",
       "4           4  I am a developer by profession  45-54 years old   \n",
       "\n",
       "            Employment                                            EdLevel  \\\n",
       "0  Employed, full-time  Some college/university study without earning ...   \n",
       "1  Employed, full-time       Bachelor’s degree (B.A., B.S., B.Eng., etc.)   \n",
       "2  Employed, full-time       Bachelor’s degree (B.A., B.S., B.Eng., etc.)   \n",
       "3  Employed, full-time  Secondary school (e.g. American high school, G...   \n",
       "4  Employed, full-time                Associate degree (A.A., A.S., etc.)   \n",
       "\n",
       "   YearsCode  YearsCodePro    Salary  \\\n",
       "0         38            30  195000.0   \n",
       "1         20            11  230000.0   \n",
       "2         25            23   85000.0   \n",
       "3         20            18  160000.0   \n",
       "4         10            10  115000.0   \n",
       "\n",
       "                                           Languages  \\\n",
       "0  Bash/Shell (all shells);C#;HTML/CSS;JavaScript...   \n",
       "1             Bash/Shell (all shells);Go;Python;Rust   \n",
       "2  Bash/Shell (all shells);C#;C++;Go;HTML/CSS;Jav...   \n",
       "3           C#;Go;HTML/CSS;JavaScript;SQL;TypeScript   \n",
       "4                      Apex;C#;JavaScript;Python;SQL   \n",
       "\n",
       "                                           Databases  num_of_lang  num_of_db  \n",
       "0          Microsoft SQL Server;PostgreSQL;Snowflake            7          3  \n",
       "1  BigQuery;Elasticsearch;MariaDB;MongoDB;Redis;S...            4          6  \n",
       "2                               Microsoft SQL Server            8          1  \n",
       "3            MariaDB;Microsoft SQL Server;PostgreSQL            6          3  \n",
       "4                               Microsoft SQL Server            5          1  "
      ]
     },
     "execution_count": 3,
     "metadata": {},
     "output_type": "execute_result"
    }
   ],
   "source": [
    "#review data\n",
    "ovsv.head()"
   ]
  },
  {
   "cell_type": "markdown",
   "id": "2dbc420d",
   "metadata": {},
   "source": [
    "Intro: \n",
    "As developers, we often hear about the relationship between education and salary. If you're wondering how different levels of education impact your earning potential in the tech industry, I've gathered some valuable insights to help guide your career decisions. Here’s an overview of how education levels correspond to average salaries in the field, based on recent data.\n",
    "\n",
    "Questions to think about:\n",
    "    1. Will my education level significantly impact my salary as a developer?\n",
    "    2. Do I really need a master's degree to earn a high salary?\n",
    "    3. Can I still earn well without a degree?\n",
    "    4. What’s the highest salary I could earn as a developer?\n",
    "    5. Is there a big difference between earning a high school diploma or an associate degree?\n",
    "    \n",
    "Process: \n",
    "The first step was to clean and filter the data. I decided to filter by Country (United States of America only) and Employment (full-time only). I checked the schema data of the survey to handpick which questions I thought would have an impact on a developer's income (dependent variable).\n",
    "\n",
    "Features pick:\n",
    "    * Education Level\n",
    "    * Salary\n",
    "    * Age\n",
    "    * YearsCode \n",
    "    * YearsCodePro\n",
    "    * How many programming languages a developer knows (LanguageHaveWorkedWith)\n",
    "    * How many databases a developer uses (DatabaseHaveWorkedWith)\n",
    "    \n",
    "For modeling I users only used the features with the highest correlation to salary. Then I tested and show results. "
   ]
  },
  {
   "cell_type": "markdown",
   "id": "d2aee217",
   "metadata": {},
   "source": [
    "Data Visualization 1\n",
    "\n",
    "Number of Languages/databases used vs Years of coding"
   ]
  },
  {
   "cell_type": "code",
   "execution_count": 4,
   "id": "38b053dc",
   "metadata": {},
   "outputs": [
    {
     "data": {
      "image/png": "[encoded data removed]",
      "text/plain": [
       "<Figure size 864x864 with 4 Axes>"
      ]
     },
     "metadata": {
      "needs_background": "light"
     },
     "output_type": "display_data"
    }
   ],
   "source": [
    "#continuous variables\n",
    "con = ['YearsCodePro', 'num_of_lang', 'num_of_db','Salary']\n",
    "ovsv_cont = ovsv[con]\n",
    "ovsv_cont.hist(figsize=[12,12], bins='auto')\n",
    "plt.show()"
   ]
  },
  {
   "cell_type": "markdown",
   "id": "76cc4939",
   "metadata": {},
   "source": [
    "Data Visual 2\n",
    "\n",
    "Distibution of salary"
   ]
  },
  {
   "cell_type": "code",
   "execution_count": 5,
   "id": "6fec17b7",
   "metadata": {},
   "outputs": [
    {
     "data": {
      "image/png": "[encoded data removed]",
      "text/plain": [
       "<Figure size 432x288 with 1 Axes>"
      ]
     },
     "metadata": {
      "needs_background": "light"
     },
     "output_type": "display_data"
    }
   ],
   "source": [
    "#Salary Hist\n",
    "ovsv['Salary'].plot(kind='hist')\n",
    "plt.title('Salary')\n",
    "plt.xlabel('USD')\n",
    "plt.show()"
   ]
  },
  {
   "cell_type": "markdown",
   "id": "979734f9",
   "metadata": {},
   "source": [
    "Data Visual 3\n",
    "\n",
    "Overview of Education vs Salary"
   ]
  },
  {
   "cell_type": "code",
   "execution_count": 6,
   "id": "29a123c5",
   "metadata": {},
   "outputs": [
    {
     "data": {
      "text/plain": [
       "EdLevel\n",
       "Associate degree (A.A., A.S., etc.)                                                   129133.0\n",
       "Bachelor’s degree (B.A., B.S., B.Eng., etc.)                                          150698.0\n",
       "Master’s degree (M.A., M.S., M.Eng., MBA, etc.)                                       163100.0\n",
       "Primary/elementary school                                                             143147.0\n",
       "Professional degree (JD, MD, Ph.D, Ed.D, etc.)                                        158698.0\n",
       "Secondary school (e.g. American high school, German Realschule or Gymnasium, etc.)    141546.0\n",
       "Some college/university study without earning a degree                                147627.0\n",
       "Something else                                                                        118057.0\n",
       "Name: Salary, dtype: float64"
      ]
     },
     "execution_count": 6,
     "metadata": {},
     "output_type": "execute_result"
    }
   ],
   "source": [
    "#Mean of Salary based on Education\n",
    "round(ovsv.groupby('EdLevel')['Salary'].mean())"
   ]
  },
  {
   "cell_type": "code",
   "execution_count": 7,
   "id": "9570edbf",
   "metadata": {},
   "outputs": [
    {
     "name": "stdout",
     "output_type": "stream",
     "text": [
      "Min Salary: 26000.0\n",
      "Median Salary: 147514.5\n",
      "Mean Salary: 151890\n",
      "Max Salary: 333000.0\n"
     ]
    }
   ],
   "source": [
    "print('Min Salary:',ovsv['Salary'].min())\n",
    "print('Median Salary:',ovsv['Salary'].median())\n",
    "print('Mean Salary:', round(ovsv['Salary'].mean()))\n",
    "print('Max Salary:',ovsv['Salary'].max())"
   ]
  },
  {
   "cell_type": "code",
   "execution_count": 8,
   "id": "1be510b2",
   "metadata": {},
   "outputs": [
    {
     "data": {
      "image/png": "[encoded data removed]",
      "text/plain": [
       "<Figure size 432x288 with 1 Axes>"
      ]
     },
     "metadata": {
      "needs_background": "light"
     },
     "output_type": "display_data"
    }
   ],
   "source": [
    "#Data Vis of Education Level Vs Salary\n",
    "sns.barplot(x='EdLevel', y='Salary', data = ovsv)\n",
    "plt.xticks(rotation=45, ha='right')\n",
    "\n",
    "plt.show()"
   ]
  },
  {
   "cell_type": "markdown",
   "id": "23c26daa",
   "metadata": {},
   "source": [
    "Linear Regression Model\n",
    "\n",
    "Relationship between salary and number of coding languages used"
   ]
  },
  {
   "cell_type": "code",
   "execution_count": 9,
   "id": "69500160",
   "metadata": {},
   "outputs": [
    {
     "data": {
      "text/html": [
       "<table class=\"simpletable\">\n",
       "<caption>OLS Regression Results</caption>\n",
       "<tr>\n",
       "  <th>Dep. Variable:</th>         <td>Salary</td>      <th>  R-squared:         </th> <td>   0.099</td> \n",
       "</tr>\n",
       "<tr>\n",
       "  <th>Model:</th>                   <td>OLS</td>       <th>  Adj. R-squared:    </th> <td>   0.098</td> \n",
       "</tr>\n",
       "<tr>\n",
       "  <th>Method:</th>             <td>Least Squares</td>  <th>  F-statistic:       </th> <td>   514.4</td> \n",
       "</tr>\n",
       "<tr>\n",
       "  <th>Date:</th>             <td>Sun, 06 Apr 2025</td> <th>  Prob (F-statistic):</th> <td>3.76e-108</td>\n",
       "</tr>\n",
       "<tr>\n",
       "  <th>Time:</th>                 <td>20:52:00</td>     <th>  Log-Likelihood:    </th> <td> -58016.</td> \n",
       "</tr>\n",
       "<tr>\n",
       "  <th>No. Observations:</th>      <td>  4704</td>      <th>  AIC:               </th> <td>1.160e+05</td>\n",
       "</tr>\n",
       "<tr>\n",
       "  <th>Df Residuals:</th>          <td>  4702</td>      <th>  BIC:               </th> <td>1.160e+05</td>\n",
       "</tr>\n",
       "<tr>\n",
       "  <th>Df Model:</th>              <td>     1</td>      <th>                     </th>     <td> </td>    \n",
       "</tr>\n",
       "<tr>\n",
       "  <th>Covariance Type:</th>      <td>nonrobust</td>    <th>                     </th>     <td> </td>    \n",
       "</tr>\n",
       "</table>\n",
       "<table class=\"simpletable\">\n",
       "<tr>\n",
       "        <td></td>          <th>coef</th>     <th>std err</th>      <th>t</th>      <th>P>|t|</th>  <th>[0.025</th>    <th>0.975]</th>  \n",
       "</tr>\n",
       "<tr>\n",
       "  <th>Intercept</th>    <td> 1.277e+05</td> <td> 1332.973</td> <td>   95.827</td> <td> 0.000</td> <td> 1.25e+05</td> <td>  1.3e+05</td>\n",
       "</tr>\n",
       "<tr>\n",
       "  <th>YearsCodePro</th> <td> 1870.2382</td> <td>   82.464</td> <td>   22.679</td> <td> 0.000</td> <td> 1708.569</td> <td> 2031.907</td>\n",
       "</tr>\n",
       "</table>\n",
       "<table class=\"simpletable\">\n",
       "<tr>\n",
       "  <th>Omnibus:</th>       <td>325.759</td> <th>  Durbin-Watson:     </th> <td>   1.940</td>\n",
       "</tr>\n",
       "<tr>\n",
       "  <th>Prob(Omnibus):</th> <td> 0.000</td>  <th>  Jarque-Bera (JB):  </th> <td> 395.555</td>\n",
       "</tr>\n",
       "<tr>\n",
       "  <th>Skew:</th>          <td> 0.686</td>  <th>  Prob(JB):          </th> <td>1.28e-86</td>\n",
       "</tr>\n",
       "<tr>\n",
       "  <th>Kurtosis:</th>      <td> 3.371</td>  <th>  Cond. No.          </th> <td>    26.9</td>\n",
       "</tr>\n",
       "</table><br/><br/>Notes:<br/>[1] Standard Errors assume that the covariance matrix of the errors is correctly specified."
      ],
      "text/plain": [
       "<class 'statsmodels.iolib.summary.Summary'>\n",
       "\"\"\"\n",
       "                            OLS Regression Results                            \n",
       "==============================================================================\n",
       "Dep. Variable:                 Salary   R-squared:                       0.099\n",
       "Model:                            OLS   Adj. R-squared:                  0.098\n",
       "Method:                 Least Squares   F-statistic:                     514.4\n",
       "Date:                Sun, 06 Apr 2025   Prob (F-statistic):          3.76e-108\n",
       "Time:                        20:52:00   Log-Likelihood:                -58016.\n",
       "No. Observations:                4704   AIC:                         1.160e+05\n",
       "Df Residuals:                    4702   BIC:                         1.160e+05\n",
       "Df Model:                           1                                         \n",
       "Covariance Type:            nonrobust                                         \n",
       "================================================================================\n",
       "                   coef    std err          t      P>|t|      [0.025      0.975]\n",
       "--------------------------------------------------------------------------------\n",
       "Intercept     1.277e+05   1332.973     95.827      0.000    1.25e+05     1.3e+05\n",
       "YearsCodePro  1870.2382     82.464     22.679      0.000    1708.569    2031.907\n",
       "==============================================================================\n",
       "Omnibus:                      325.759   Durbin-Watson:                   1.940\n",
       "Prob(Omnibus):                  0.000   Jarque-Bera (JB):              395.555\n",
       "Skew:                           0.686   Prob(JB):                     1.28e-86\n",
       "Kurtosis:                       3.371   Cond. No.                         26.9\n",
       "==============================================================================\n",
       "\n",
       "Notes:\n",
       "[1] Standard Errors assume that the covariance matrix of the errors is correctly specified.\n",
       "\"\"\""
      ]
     },
     "execution_count": 9,
     "metadata": {},
     "output_type": "execute_result"
    }
   ],
   "source": [
    "#Making the formula\n",
    "form = 'Salary~YearsCodePro'\n",
    "\n",
    "model = ols(formula=form, data=ovsv).fit()\n",
    "\n",
    "model.summary()"
   ]
  },
  {
   "cell_type": "code",
   "execution_count": 10,
   "id": "5dc2f603",
   "metadata": {},
   "outputs": [],
   "source": [
    "#creating simple linear regression\n",
    "X = ovsv[['YearsCodePro']]\n",
    "y = ovsv[['Salary']]"
   ]
  },
  {
   "cell_type": "code",
   "execution_count": 11,
   "id": "9fba7267",
   "metadata": {},
   "outputs": [],
   "source": [
    "#training model\n",
    "X_train, X_test, y_train, y_test = train_test_split(X, y, test_size=0.2, random_state=42)\n",
    "lreg = LinearRegression()\n",
    "lreg.fit(X_train, y_train)\n",
    "\n",
    "y_ovsv_train = lreg.predict(X_train)\n",
    "y_ovsv_test = lreg.predict(X_test)"
   ]
  },
  {
   "cell_type": "code",
   "execution_count": 12,
   "id": "0c0da659",
   "metadata": {},
   "outputs": [
    {
     "name": "stdout",
     "output_type": "stream",
     "text": [
      "Train Mean Squared Error: Salary    3.012229e+09\n",
      "dtype: float64\n",
      "Test Mean Squared Error: Salary    3.054458e+09\n",
      "dtype: float64\n"
     ]
    }
   ],
   "source": [
    "#model is good test results are similar\n",
    "mse_train = np.sum((y_train-y_ovsv_train)**2)/len(y_train)\n",
    "mse_test = np.sum((y_test-y_ovsv_test)**2)/len(y_test)\n",
    "print('Train Mean Squared Error:',mse_train)\n",
    "print('Test Mean Squared Error:',mse_test)"
   ]
  },
  {
   "cell_type": "markdown",
   "id": "b88fc6cc",
   "metadata": {},
   "source": [
    "Evaluation:\n",
    "\n",
    "As shown by dat visual 3 \n",
    "Will my education level significantly impact my salary as a developer?\n",
    "\n",
    "Yes, based on the data, education level does have an impact on salary. For example, developers with a master's degree earn an average of $163,100, whereas those with just an associate degree make around $129,133. The difference in salary can be substantial as you advance your education.\n",
    "\n",
    "Do I really need a master's degree to earn a high salary?\n",
    "\n",
    "Not necessarily. While a master's degree can increase your earning potential (with an average salary of $163,100), a bachelor’s degree still provides a solid earning potential at $150,698. In fact, many developers without a master's degree or higher still achieve great success.\n",
    "\n",
    "Can I still earn well without a degree?\n",
    "\n",
    "Absolutely! Developers with some college/university study without completing a degree earn an average salary of $147,627. Furthermore, those in non-traditional education paths, such as coding bootcamps, can earn an average of $118,057. This shows that hands-on experience and skills can be just as important as formal education.\n",
    "\n",
    "What’s the highest salary I could earn as a developer?\n",
    "\n",
    "The maximum salary for developers can be as high as $333,000, according to the data. While this is on the extreme end, it’s possible to reach this level with significant experience, specialized skills, or a combination of advanced education and industry leadership.\n",
    "\n",
    "Is there a big difference between earning a high school diploma or an associate degree?\n",
    "\n",
    "The data shows a modest difference. Developers with just a high school diploma earn an average of $141,546, while those with an associate degree earn $129,133 on average. While the difference is noticeable, it highlights that early career experience can play a significant role in salary as well."
   ]
  }
 ],
 "metadata": {
  "kernelspec": {
   "display_name": "Python 3 (ipykernel)",
   "language": "python",
   "name": "python3"
  },
  "language_info": {
   "codemirror_mode": {
    "name": "ipython",
    "version": 3
   },
   "file_extension": ".py",
   "mimetype": "text/x-python",
   "name": "python",
   "nbconvert_exporter": "python",
   "pygments_lexer": "ipython3",
   "version": "3.8.12"
  }
 },
 "nbformat": 4,
 "nbformat_minor": 5
}
